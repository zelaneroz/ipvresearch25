{
 "cells": [
  {
   "cell_type": "markdown",
   "id": "44101d09",
   "metadata": {},
   "source": [
    "# Qwen"
   ]
  },
  {
   "cell_type": "code",
   "execution_count": null,
   "id": "8ef4b735",
   "metadata": {},
   "outputs": [],
   "source": [
    "import torch\n",
    "from transformers import AutoModelForCausalLM, AutoTokenizer\n",
    "import pandas as pd\n",
    "from tqdm import tqdm"
   ]
  },
  {
   "cell_type": "code",
   "execution_count": null,
   "id": "be0104f5",
   "metadata": {},
   "outputs": [
    {
     "data": {
      "application/vnd.jupyter.widget-view+json": {
       "model_id": "fdbe4fbec1a446a6b30cf3ed07b097a4",
       "version_major": 2,
       "version_minor": 0
      },
      "text/plain": [
       "tokenizer_config.json: 0.00B [00:00, ?B/s]"
      ]
     },
     "metadata": {},
     "output_type": "display_data"
    },
    {
     "data": {
      "application/vnd.jupyter.widget-view+json": {
       "model_id": "8ed47ed4850141a8b634cc120ee8c0d5",
       "version_major": 2,
       "version_minor": 0
      },
      "text/plain": [
       "vocab.json: 0.00B [00:00, ?B/s]"
      ]
     },
     "metadata": {},
     "output_type": "display_data"
    },
    {
     "data": {
      "application/vnd.jupyter.widget-view+json": {
       "model_id": "e7b24ad595e148078635cb8e6a229bfd",
       "version_major": 2,
       "version_minor": 0
      },
      "text/plain": [
       "merges.txt: 0.00B [00:00, ?B/s]"
      ]
     },
     "metadata": {},
     "output_type": "display_data"
    },
    {
     "data": {
      "application/vnd.jupyter.widget-view+json": {
       "model_id": "f2081975439344d79831f980577c827c",
       "version_major": 2,
       "version_minor": 0
      },
      "text/plain": [
       "tokenizer.json: 0.00B [00:00, ?B/s]"
      ]
     },
     "metadata": {},
     "output_type": "display_data"
    },
    {
     "data": {
      "application/vnd.jupyter.widget-view+json": {
       "model_id": "dc1d728440d44f759fceb2d3d1914f65",
       "version_major": 2,
       "version_minor": 0
      },
      "text/plain": [
       "config.json:   0%|          | 0.00/663 [00:00<?, ?B/s]"
      ]
     },
     "metadata": {},
     "output_type": "display_data"
    },
    {
     "name": "stderr",
     "output_type": "stream",
     "text": [
      "`torch_dtype` is deprecated! Use `dtype` instead!\n"
     ]
    },
    {
     "data": {
      "application/vnd.jupyter.widget-view+json": {
       "model_id": "d765414cd58b459ca1aca527374f8900",
       "version_major": 2,
       "version_minor": 0
      },
      "text/plain": [
       "model.safetensors.index.json: 0.00B [00:00, ?B/s]"
      ]
     },
     "metadata": {},
     "output_type": "display_data"
    },
    {
     "data": {
      "application/vnd.jupyter.widget-view+json": {
       "model_id": "24863bfc34c84c76a16f6071ce25a563",
       "version_major": 2,
       "version_minor": 0
      },
      "text/plain": [
       "Fetching 4 files:   0%|          | 0/4 [00:00<?, ?it/s]"
      ]
     },
     "metadata": {},
     "output_type": "display_data"
    },
    {
     "data": {
      "application/vnd.jupyter.widget-view+json": {
       "model_id": "21adbeacdf9c45c2a49d0d1030d02e89",
       "version_major": 2,
       "version_minor": 0
      },
      "text/plain": [
       "model-00004-of-00004.safetensors:   0%|          | 0.00/3.56G [00:00<?, ?B/s]"
      ]
     },
     "metadata": {},
     "output_type": "display_data"
    },
    {
     "data": {
      "application/vnd.jupyter.widget-view+json": {
       "model_id": "e782d89e55ae44e2b9e50712c82dc60d",
       "version_major": 2,
       "version_minor": 0
      },
      "text/plain": [
       "model-00001-of-00004.safetensors:   0%|          | 0.00/3.95G [00:00<?, ?B/s]"
      ]
     },
     "metadata": {},
     "output_type": "display_data"
    },
    {
     "data": {
      "application/vnd.jupyter.widget-view+json": {
       "model_id": "0af798ce4d2d49e0a375fabe97ba487e",
       "version_major": 2,
       "version_minor": 0
      },
      "text/plain": [
       "model-00003-of-00004.safetensors:   0%|          | 0.00/3.86G [00:00<?, ?B/s]"
      ]
     },
     "metadata": {},
     "output_type": "display_data"
    },
    {
     "data": {
      "application/vnd.jupyter.widget-view+json": {
       "model_id": "ecc4174bccfa4ae2b060663d7cadcbfd",
       "version_major": 2,
       "version_minor": 0
      },
      "text/plain": [
       "model-00002-of-00004.safetensors:   0%|          | 0.00/3.86G [00:00<?, ?B/s]"
      ]
     },
     "metadata": {},
     "output_type": "display_data"
    }
   ],
   "source": [
    "#FILENAMES\n",
    "model_name = \"Qwen/Qwen2.5-7B-Instruct\"\n",
    "filename=\"617points.csv\"\n",
    "\n",
    "#Load Model & Tokenizer\n",
    "tokenizer = AutoTokenizer.from_pretrained(model_name)\n",
    "model = AutoModelForCausalLM.from_pretrained(\n",
    "    model_name,\n",
    "    device_map=\"auto\",      \n",
    "    torch_dtype=torch.bfloat16  \n",
    ")"
   ]
  },
  {
   "cell_type": "markdown",
   "id": "f925d815",
   "metadata": {},
   "source": [
    "#"
   ]
  },
  {
   "cell_type": "markdown",
   "id": "406a474f",
   "metadata": {},
   "source": [
    "## 1A. Binary IPV detection prompt"
   ]
  },
  {
   "cell_type": "markdown",
   "id": "b16a8e69",
   "metadata": {},
   "source": [
    "## 1B. Multi-label (TYPE) detection prompt"
   ]
  },
  {
   "cell_type": "markdown",
   "id": "a4f9019c",
   "metadata": {},
   "source": [
    "## 1C. IPV Subtype Detection"
   ]
  },
  {
   "cell_type": "markdown",
   "id": "3d5bb489",
   "metadata": {},
   "source": [
    "## 2. Generate Predictions"
   ]
  },
  {
   "cell_type": "code",
   "execution_count": null,
   "id": "82669ff8",
   "metadata": {},
   "outputs": [],
   "source": [
    "def run_llm(prompt):\n",
    "    inputs = tokenizer(prompt, return_tensors=\"pt\").to(model.device)\n",
    "    output = model.generate(\n",
    "        **inputs,\n",
    "        max_new_tokens=50,\n",
    "        temperature=0,   # deterministic\n",
    "        do_sample=False\n",
    "    )\n",
    "    text = tokenizer.decode(output[0], skip_special_tokens=True)\n",
    "    return text\n"
   ]
  },
  {
   "cell_type": "code",
   "execution_count": null,
   "id": "d291020e",
   "metadata": {},
   "outputs": [],
   "source": [
    "#testing on one\n",
    "sample = make_binary_prompt(df.loc[0, \"items\"])\n",
    "print(run_llm(sample))\n"
   ]
  },
  {
   "cell_type": "code",
   "execution_count": null,
   "id": "cf9cbade",
   "metadata": {},
   "outputs": [],
   "source": [
    "#proceed with all rows\n",
    "binary_preds = []\n",
    "for _, row in tqdm(df.iterrows(), total=len(df)):\n",
    "    prompt = make_binary_prompt(row[\"items\"])\n",
    "    result = run_llm(prompt)\n",
    "    binary_preds.append(result)\n",
    "\n",
    "df[\"Binary_Prediction\"] = binary_preds\n"
   ]
  },
  {
   "cell_type": "code",
   "execution_count": null,
   "id": "86d67244",
   "metadata": {},
   "outputs": [],
   "source": [
    "#save to df.to_csv(\"llm_predictions.csv\", index=False)\n",
    "#next steps: Evaluate on your labeled data\n",
    "\n",
    "# from sklearn.metrics import classification_report\n",
    "# df[\"True_Binary\"] = df[[\"Physical Abuse\", \"Emotional Abuse\", \"Sexual Abuse\"]].any(axis=1)\n",
    "# df[\"True_Binary\"] = df[\"True_Binary\"].astype(int)\n",
    "\n",
    "# # Example parsing 'IPV' / 'NOT_IPV' from LLM output\n",
    "# df[\"Pred_Binary\"] = df[\"Binary_Label\"].apply(lambda x: 1 if x and x.get(\"label\") == \"IPV\" else 0)\n",
    "\n",
    "# print(classification_report(df[\"True_Binary\"], df[\"Pred_Binary\"]))\n"
   ]
  },
  {
   "cell_type": "markdown",
   "id": "1d8a1873",
   "metadata": {},
   "source": [
    "## 3. Evaluation Pipeline"
   ]
  },
  {
   "cell_type": "code",
   "execution_count": null,
   "id": "b6fa5e15",
   "metadata": {},
   "outputs": [],
   "source": []
  }
 ],
 "metadata": {
  "kernelspec": {
   "display_name": "base",
   "language": "python",
   "name": "python3"
  },
  "language_info": {
   "codemirror_mode": {
    "name": "ipython",
    "version": 3
   },
   "file_extension": ".py",
   "mimetype": "text/x-python",
   "name": "python",
   "nbconvert_exporter": "python",
   "pygments_lexer": "ipython3",
   "version": "3.9.13"
  }
 },
 "nbformat": 4,
 "nbformat_minor": 5
}
